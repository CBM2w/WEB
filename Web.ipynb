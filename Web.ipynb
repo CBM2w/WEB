{
 "cells": [
  {
   "cell_type": "code",
   "execution_count": 31,
   "metadata": {},
   "outputs": [
    {
     "data": {
      "text/html": [
       "<div>\n",
       "<style scoped>\n",
       "    .dataframe tbody tr th:only-of-type {\n",
       "        vertical-align: middle;\n",
       "    }\n",
       "\n",
       "    .dataframe tbody tr th {\n",
       "        vertical-align: top;\n",
       "    }\n",
       "\n",
       "    .dataframe thead th {\n",
       "        text-align: right;\n",
       "    }\n",
       "</style>\n",
       "<table border=\"1\" class=\"dataframe\">\n",
       "  <thead>\n",
       "    <tr style=\"text-align: right;\">\n",
       "      <th></th>\n",
       "      <th>Id</th>\n",
       "      <th>Categoria</th>\n",
       "      <th>Nombre</th>\n",
       "      <th>Valoracion</th>\n",
       "      <th>Dificultad</th>\n",
       "      <th>Num_comensales</th>\n",
       "      <th>Tiempo</th>\n",
       "      <th>Tipo</th>\n",
       "      <th>Link_receta</th>\n",
       "      <th>Num_comentarios</th>\n",
       "      <th>Num_reviews</th>\n",
       "      <th>Fecha_modificacion</th>\n",
       "      <th>Ingredientes</th>\n",
       "    </tr>\n",
       "  </thead>\n",
       "  <tbody>\n",
       "    <tr>\n",
       "      <th>20359</th>\n",
       "      <td>73418</td>\n",
       "      <td>Recetas de Verduras</td>\n",
       "      <td>Receta de Judías verdes con chorizo</td>\n",
       "      <td>5.0</td>\n",
       "      <td>baja</td>\n",
       "      <td>4.0</td>\n",
       "      <td>30m</td>\n",
       "      <td>NaN</td>\n",
       "      <td>https://www.recetasgratis.net/receta-de-judias...</td>\n",
       "      <td>1</td>\n",
       "      <td>5</td>\n",
       "      <td>2019-09-30</td>\n",
       "      <td>1 kilogramo de judías verdes,2 unidades de pat...</td>\n",
       "    </tr>\n",
       "  </tbody>\n",
       "</table>\n",
       "</div>"
      ],
      "text/plain": [
       "          Id            Categoria                               Nombre  \\\n",
       "20359  73418  Recetas de Verduras  Receta de Judías verdes con chorizo   \n",
       "\n",
       "       Valoracion Dificultad  Num_comensales Tiempo Tipo  \\\n",
       "20359         5.0       baja             4.0    30m  NaN   \n",
       "\n",
       "                                             Link_receta  Num_comentarios  \\\n",
       "20359  https://www.recetasgratis.net/receta-de-judias...                1   \n",
       "\n",
       "       Num_reviews Fecha_modificacion  \\\n",
       "20359            5         2019-09-30   \n",
       "\n",
       "                                            Ingredientes  \n",
       "20359  1 kilogramo de judías verdes,2 unidades de pat...  "
      ]
     },
     "execution_count": 31,
     "metadata": {},
     "output_type": "execute_result"
    }
   ],
   "source": [
    "import pandas as pd\n",
    "\n",
    "datos = pd.read_csv('C:/Users/Carla/Desktop/WEB/recetas.csv', sep = '|')\n",
    "\n",
    "datos[datos.Id == 73418]\n"
   ]
  },
  {
   "cell_type": "code",
   "execution_count": null,
   "metadata": {},
   "outputs": [],
   "source": []
  }
 ],
 "metadata": {
  "kernelspec": {
   "display_name": "Python 3.9.13 64-bit",
   "language": "python",
   "name": "python3"
  },
  "language_info": {
   "codemirror_mode": {
    "name": "ipython",
    "version": 3
   },
   "file_extension": ".py",
   "mimetype": "text/x-python",
   "name": "python",
   "nbconvert_exporter": "python",
   "pygments_lexer": "ipython3",
   "version": "3.9.13"
  },
  "orig_nbformat": 4,
  "vscode": {
   "interpreter": {
    "hash": "07719c79fb9794882eb37fe40192f87268962ad97e8b0c74ddedf645f3cacd52"
   }
  }
 },
 "nbformat": 4,
 "nbformat_minor": 2
}
